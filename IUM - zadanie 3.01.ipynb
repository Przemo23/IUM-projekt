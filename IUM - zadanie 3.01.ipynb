{
 "cells": [
  {
   "cell_type": "markdown",
   "metadata": {},
   "source": [
    "# Projekt IUM 2020Z - zadanie 3\n",
    "___\n",
    "### Etap 1, iteracja 1\n",
    "\n",
    "\n",
    "### Autorzy projektu\n",
    "* Mateusz Marciniewicz\n",
    "* Przemysław Bedełek\n",
    "\n",
    "### Opis zadania\n",
    "\n",
    "\n",
    "<i>Wygląda na to, że nasze firmy kurierskie czasami nie radzą sobie z dostawami. Lepiej by było, gdybyśmy wiedzieli, ile taka dostawa dla danego zamówienia może potrwać.</i>\n",
    "\n",
    "\n",
    "\n",
    "\n",
    "# Tło biznesowe\n",
    "___\n",
    "\n",
    "### Kontekst\n",
    "Usprawnienie systemu dostaw w sklepie \"eSzopping\".\n",
    "\n",
    "### Zadanie biznesowe\n",
    "Stworzyć narzędzie do estymacji czasu dostawy towaru na podstawie danych o zakupach i sposobach przesyłki.\n",
    "\n",
    "### Kryterium biznesowe\n",
    "Nowy system ma za zadanie przewidywać czas dostawy poprawnie w przypadku 95% zamówień.\n",
    "\n"
   ]
  },
  {
   "cell_type": "markdown",
   "metadata": {},
   "source": [
    "# Zadanie modelowania\n",
    "____\n",
    "### Typ zadania: Aproksymacja/Regresja\n",
    "\n",
    "### Dane\n",
    "Tabele dotyczące działalności sklepu zawierają poniższe informacje:\n",
    "* baza użytkowników\n",
    "* katalog produktów\n",
    "* historia sesji\n",
    "* dane dotyczące wysyłki zakupionych produktów\n",
    "\n",
    "### Analityczne kryterium sukcesu:\n",
    "\n",
    "<img src=\"https://latex.codecogs.com/gif.latex?\\frac{y_{true}}{y_{true}&plus;y_{false}}\\geq&space;95%\" title=\"\\frac{y_{true}}{y_{true}+y_{false}}\\geq 95%\" />\n",
    "\n",
    "gdzie y<sub>true</sub> to liczba predykcji, które:\n",
    "\n",
    "<img src=\"https://latex.codecogs.com/gif.latex?|y_{pred}-y|&space;<&space;4\" title=\"|y_{pred}-y| < 4\" />\n",
    "\n",
    "Czas dostawy jest wyrażany w godzinach.\n",
    "\n"
   ]
  },
  {
   "cell_type": "markdown",
   "metadata": {},
   "source": [
    "# Przegląd danych\n",
    "\n"
   ]
  },
  {
   "cell_type": "code",
   "execution_count": 1,
   "metadata": {},
   "outputs": [],
   "source": [
    "import pandas as pd\n",
    "import numpy as np\n",
    "import scipy.stats as ss\n",
    "import matplotlib.pyplot as plt\n",
    "import seaborn as sns"
   ]
  },
  {
   "cell_type": "code",
   "execution_count": 2,
   "metadata": {},
   "outputs": [],
   "source": [
    "df = pd.read_csv('ium_preprocessed2.csv',index_col=0)"
   ]
  },
  {
   "cell_type": "code",
   "execution_count": 3,
   "metadata": {},
   "outputs": [
    {
     "name": "stdout",
     "output_type": "stream",
     "text": [
      "<class 'pandas.core.frame.DataFrame'>\n",
      "Int64Index: 4164 entries, 1 to 4164\n",
      "Data columns (total 14 columns):\n",
      "city                      4164 non-null object\n",
      "street                    4164 non-null object\n",
      "streetNumber              4164 non-null int64\n",
      "delivery_company          4164 non-null object\n",
      "purchase_month            4164 non-null object\n",
      "purchase_day              4164 non-null int64\n",
      "purchase_hour             4164 non-null int64\n",
      "purchase_weekday          4164 non-null object\n",
      "delivery_month            4164 non-null object\n",
      "delivery_day              4164 non-null int64\n",
      "delivery_hour             4164 non-null int64\n",
      "delivery_weekday          4164 non-null object\n",
      "shipping_time_in_hours    4164 non-null int64\n",
      "category                  3942 non-null object\n",
      "dtypes: int64(6), object(8)\n",
      "memory usage: 488.0+ KB\n"
     ]
    }
   ],
   "source": [
    "df.info()"
   ]
  },
  {
   "cell_type": "code",
   "execution_count": 4,
   "metadata": {},
   "outputs": [],
   "source": [
    "# Rozdzielenie danych wejściowych od wyjściowych\n",
    "y = df['shipping_time_in_hours']"
   ]
  },
  {
   "cell_type": "markdown",
   "metadata": {},
   "source": [
    "Wszystkie kolumny z atrybutami treningowymi zawierają dane dzielące się na kategorie,\n",
    "więc zostaje zmieniony ich dtype na 'categorical'."
   ]
  },
  {
   "cell_type": "code",
   "execution_count": 5,
   "metadata": {},
   "outputs": [],
   "source": [
    "x = df.drop(['shipping_time_in_hours'],axis=1)\n",
    "x = x.astype('category')"
   ]
  },
  {
   "cell_type": "markdown",
   "metadata": {},
   "source": [
    "W kolumnie category występują NaNy. Zostaną zamienione na 'Brak kategorii'."
   ]
  },
  {
   "cell_type": "code",
   "execution_count": 6,
   "metadata": {},
   "outputs": [],
   "source": [
    "x['category']=x['category'].cat.add_categories('Brak kategorii')\n",
    "x['category']=x['category'].fillna('Brak kategorii')"
   ]
  },
  {
   "cell_type": "code",
   "execution_count": 7,
   "metadata": {},
   "outputs": [
    {
     "data": {
      "text/html": [
       "<div>\n",
       "<style scoped>\n",
       "    .dataframe tbody tr th:only-of-type {\n",
       "        vertical-align: middle;\n",
       "    }\n",
       "\n",
       "    .dataframe tbody tr th {\n",
       "        vertical-align: top;\n",
       "    }\n",
       "\n",
       "    .dataframe thead th {\n",
       "        text-align: right;\n",
       "    }\n",
       "</style>\n",
       "<table border=\"1\" class=\"dataframe\">\n",
       "  <thead>\n",
       "    <tr style=\"text-align: right;\">\n",
       "      <th></th>\n",
       "      <th>city</th>\n",
       "      <th>street</th>\n",
       "      <th>streetNumber</th>\n",
       "      <th>delivery_company</th>\n",
       "      <th>purchase_month</th>\n",
       "      <th>purchase_day</th>\n",
       "      <th>purchase_hour</th>\n",
       "      <th>purchase_weekday</th>\n",
       "      <th>delivery_month</th>\n",
       "      <th>delivery_day</th>\n",
       "      <th>delivery_hour</th>\n",
       "      <th>delivery_weekday</th>\n",
       "      <th>category</th>\n",
       "    </tr>\n",
       "    <tr>\n",
       "      <th>Obs</th>\n",
       "      <th></th>\n",
       "      <th></th>\n",
       "      <th></th>\n",
       "      <th></th>\n",
       "      <th></th>\n",
       "      <th></th>\n",
       "      <th></th>\n",
       "      <th></th>\n",
       "      <th></th>\n",
       "      <th></th>\n",
       "      <th></th>\n",
       "      <th></th>\n",
       "      <th></th>\n",
       "    </tr>\n",
       "  </thead>\n",
       "  <tbody>\n",
       "    <tr>\n",
       "      <td>1</td>\n",
       "      <td>Warszawa</td>\n",
       "      <td>al. Mokra</td>\n",
       "      <td>49</td>\n",
       "      <td>C516</td>\n",
       "      <td>IX</td>\n",
       "      <td>6</td>\n",
       "      <td>9</td>\n",
       "      <td>Saturday</td>\n",
       "      <td>IX</td>\n",
       "      <td>7</td>\n",
       "      <td>22</td>\n",
       "      <td>Sunday</td>\n",
       "      <td>Brak kategorii</td>\n",
       "    </tr>\n",
       "    <tr>\n",
       "      <td>2</td>\n",
       "      <td>Gdynia</td>\n",
       "      <td>ul. Okrzei</td>\n",
       "      <td>90</td>\n",
       "      <td>C620</td>\n",
       "      <td>IV</td>\n",
       "      <td>28</td>\n",
       "      <td>12</td>\n",
       "      <td>Monday</td>\n",
       "      <td>V</td>\n",
       "      <td>1</td>\n",
       "      <td>6</td>\n",
       "      <td>Thursday</td>\n",
       "      <td>Brak kategorii</td>\n",
       "    </tr>\n",
       "    <tr>\n",
       "      <td>3</td>\n",
       "      <td>Police</td>\n",
       "      <td>pl. Dlugosza</td>\n",
       "      <td>70</td>\n",
       "      <td>C360</td>\n",
       "      <td>I</td>\n",
       "      <td>22</td>\n",
       "      <td>9</td>\n",
       "      <td>Tuesday</td>\n",
       "      <td>I</td>\n",
       "      <td>23</td>\n",
       "      <td>19</td>\n",
       "      <td>Wednesday</td>\n",
       "      <td>Brak kategorii</td>\n",
       "    </tr>\n",
       "    <tr>\n",
       "      <td>4</td>\n",
       "      <td>Gdynia</td>\n",
       "      <td>ul. Okrzei</td>\n",
       "      <td>90</td>\n",
       "      <td>C620</td>\n",
       "      <td>III</td>\n",
       "      <td>28</td>\n",
       "      <td>23</td>\n",
       "      <td>Friday</td>\n",
       "      <td>III</td>\n",
       "      <td>31</td>\n",
       "      <td>17</td>\n",
       "      <td>Monday</td>\n",
       "      <td>Brak kategorii</td>\n",
       "    </tr>\n",
       "    <tr>\n",
       "      <td>5</td>\n",
       "      <td>Radom</td>\n",
       "      <td>pl. Konstytucji 3 Maja</td>\n",
       "      <td>129</td>\n",
       "      <td>C360</td>\n",
       "      <td>VI</td>\n",
       "      <td>3</td>\n",
       "      <td>1</td>\n",
       "      <td>Tuesday</td>\n",
       "      <td>VI</td>\n",
       "      <td>4</td>\n",
       "      <td>0</td>\n",
       "      <td>Wednesday</td>\n",
       "      <td>Brak kategorii</td>\n",
       "    </tr>\n",
       "  </tbody>\n",
       "</table>\n",
       "</div>"
      ],
      "text/plain": [
       "         city                  street streetNumber delivery_company  \\\n",
       "Obs                                                                   \n",
       "1    Warszawa               al. Mokra           49             C516   \n",
       "2      Gdynia              ul. Okrzei           90             C620   \n",
       "3      Police            pl. Dlugosza           70             C360   \n",
       "4      Gdynia              ul. Okrzei           90             C620   \n",
       "5       Radom  pl. Konstytucji 3 Maja          129             C360   \n",
       "\n",
       "    purchase_month purchase_day purchase_hour purchase_weekday delivery_month  \\\n",
       "Obs                                                                             \n",
       "1               IX            6             9         Saturday             IX   \n",
       "2               IV           28            12           Monday              V   \n",
       "3                I           22             9          Tuesday              I   \n",
       "4              III           28            23           Friday            III   \n",
       "5               VI            3             1          Tuesday             VI   \n",
       "\n",
       "    delivery_day delivery_hour delivery_weekday        category  \n",
       "Obs                                                              \n",
       "1              7            22           Sunday  Brak kategorii  \n",
       "2              1             6         Thursday  Brak kategorii  \n",
       "3             23            19        Wednesday  Brak kategorii  \n",
       "4             31            17           Monday  Brak kategorii  \n",
       "5              4             0        Wednesday  Brak kategorii  "
      ]
     },
     "execution_count": 7,
     "metadata": {},
     "output_type": "execute_result"
    }
   ],
   "source": [
    "x.head()"
   ]
  },
  {
   "cell_type": "code",
   "execution_count": 8,
   "metadata": {},
   "outputs": [
    {
     "data": {
      "text/html": [
       "<div>\n",
       "<style scoped>\n",
       "    .dataframe tbody tr th:only-of-type {\n",
       "        vertical-align: middle;\n",
       "    }\n",
       "\n",
       "    .dataframe tbody tr th {\n",
       "        vertical-align: top;\n",
       "    }\n",
       "\n",
       "    .dataframe thead th {\n",
       "        text-align: right;\n",
       "    }\n",
       "</style>\n",
       "<table border=\"1\" class=\"dataframe\">\n",
       "  <thead>\n",
       "    <tr style=\"text-align: right;\">\n",
       "      <th></th>\n",
       "      <th>city</th>\n",
       "      <th>street</th>\n",
       "      <th>streetNumber</th>\n",
       "      <th>delivery_company</th>\n",
       "      <th>purchase_month</th>\n",
       "      <th>purchase_day</th>\n",
       "      <th>purchase_hour</th>\n",
       "      <th>purchase_weekday</th>\n",
       "      <th>delivery_month</th>\n",
       "      <th>delivery_day</th>\n",
       "      <th>delivery_hour</th>\n",
       "      <th>delivery_weekday</th>\n",
       "      <th>category</th>\n",
       "    </tr>\n",
       "  </thead>\n",
       "  <tbody>\n",
       "    <tr>\n",
       "      <td>count</td>\n",
       "      <td>4164</td>\n",
       "      <td>4164</td>\n",
       "      <td>4164</td>\n",
       "      <td>4164</td>\n",
       "      <td>4164</td>\n",
       "      <td>4164</td>\n",
       "      <td>4164</td>\n",
       "      <td>4164</td>\n",
       "      <td>4164</td>\n",
       "      <td>4164</td>\n",
       "      <td>4164</td>\n",
       "      <td>4164</td>\n",
       "      <td>4164</td>\n",
       "    </tr>\n",
       "    <tr>\n",
       "      <td>unique</td>\n",
       "      <td>8</td>\n",
       "      <td>182</td>\n",
       "      <td>131</td>\n",
       "      <td>3</td>\n",
       "      <td>10</td>\n",
       "      <td>31</td>\n",
       "      <td>24</td>\n",
       "      <td>7</td>\n",
       "      <td>10</td>\n",
       "      <td>31</td>\n",
       "      <td>24</td>\n",
       "      <td>7</td>\n",
       "      <td>16</td>\n",
       "    </tr>\n",
       "    <tr>\n",
       "      <td>top</td>\n",
       "      <td>Konin</td>\n",
       "      <td>ul. Storczykowa</td>\n",
       "      <td>49</td>\n",
       "      <td>C620</td>\n",
       "      <td>I</td>\n",
       "      <td>25</td>\n",
       "      <td>23</td>\n",
       "      <td>Wednesday</td>\n",
       "      <td>VII</td>\n",
       "      <td>27</td>\n",
       "      <td>13</td>\n",
       "      <td>Sunday</td>\n",
       "      <td>Biurowe urzadzenia wielofunkcyjne</td>\n",
       "    </tr>\n",
       "    <tr>\n",
       "      <td>freq</td>\n",
       "      <td>584</td>\n",
       "      <td>69</td>\n",
       "      <td>121</td>\n",
       "      <td>1421</td>\n",
       "      <td>448</td>\n",
       "      <td>172</td>\n",
       "      <td>201</td>\n",
       "      <td>641</td>\n",
       "      <td>450</td>\n",
       "      <td>168</td>\n",
       "      <td>203</td>\n",
       "      <td>647</td>\n",
       "      <td>280</td>\n",
       "    </tr>\n",
       "  </tbody>\n",
       "</table>\n",
       "</div>"
      ],
      "text/plain": [
       "         city           street  streetNumber delivery_company purchase_month  \\\n",
       "count    4164             4164          4164             4164           4164   \n",
       "unique      8              182           131                3             10   \n",
       "top     Konin  ul. Storczykowa            49             C620              I   \n",
       "freq      584               69           121             1421            448   \n",
       "\n",
       "        purchase_day  purchase_hour purchase_weekday delivery_month  \\\n",
       "count           4164           4164             4164           4164   \n",
       "unique            31             24                7             10   \n",
       "top               25             23        Wednesday            VII   \n",
       "freq             172            201              641            450   \n",
       "\n",
       "        delivery_day  delivery_hour delivery_weekday  \\\n",
       "count           4164           4164             4164   \n",
       "unique            31             24                7   \n",
       "top               27             13           Sunday   \n",
       "freq             168            203              647   \n",
       "\n",
       "                                 category  \n",
       "count                                4164  \n",
       "unique                                 16  \n",
       "top     Biurowe urzadzenia wielofunkcyjne  \n",
       "freq                                  280  "
      ]
     },
     "execution_count": 8,
     "metadata": {},
     "output_type": "execute_result"
    }
   ],
   "source": [
    "x.describe()"
   ]
  },
  {
   "cell_type": "code",
   "execution_count": 9,
   "metadata": {},
   "outputs": [
    {
     "data": {
      "text/plain": [
       "Obs\n",
       "1    37\n",
       "2    66\n",
       "3    34\n",
       "4    66\n",
       "5    24\n",
       "Name: shipping_time_in_hours, dtype: int64"
      ]
     },
     "execution_count": 9,
     "metadata": {},
     "output_type": "execute_result"
    }
   ],
   "source": [
    "y.head()"
   ]
  },
  {
   "cell_type": "code",
   "execution_count": 10,
   "metadata": {},
   "outputs": [
    {
     "data": {
      "text/plain": [
       "count    4164.000000\n",
       "mean       48.651537\n",
       "std        33.898612\n",
       "min         1.000000\n",
       "25%        22.000000\n",
       "50%        43.000000\n",
       "75%        69.000000\n",
       "max       206.000000\n",
       "Name: shipping_time_in_hours, dtype: float64"
      ]
     },
     "execution_count": 10,
     "metadata": {},
     "output_type": "execute_result"
    }
   ],
   "source": [
    "y.describe()"
   ]
  },
  {
   "cell_type": "markdown",
   "metadata": {},
   "source": [
    "### Liczba rejestrowanych miesięcy\n",
    "\n",
    "Spójrzmy na dane z kolumn purchase_month i delivery_month. Istnieje tylko 10 kategorii, a miesięcy jest 12 w roku."
   ]
  },
  {
   "cell_type": "code",
   "execution_count": 11,
   "metadata": {},
   "outputs": [
    {
     "name": "stdout",
     "output_type": "stream",
     "text": [
      "Index(['I', 'II', 'III', 'IV', 'IX', 'V', 'VI', 'VII', 'VIII', 'X'], dtype='object')\n",
      "Index(['I', 'II', 'III', 'IV', 'IX', 'V', 'VI', 'VII', 'VIII', 'X'], dtype='object')\n"
     ]
    }
   ],
   "source": [
    "print(x['purchase_month'].cat.categories)\n",
    "print(x['delivery_month'].cat.categories)"
   ]
  },
  {
   "cell_type": "markdown",
   "metadata": {},
   "source": [
    "Dane najwyraźniej pochodzą z okresu 10 miesięcy."
   ]
  },
  {
   "cell_type": "markdown",
   "metadata": {},
   "source": [
    "### Korelacja między ulicami i miastami\n",
    "\n",
    "Czas też sprawdzić jak są ze sobą 'skorelowane' ulice z miastami.\n",
    "Jako iż zmienne w obu kolumnach mają charakter nominalny, policzymy\n",
    "współczynnik V Cramera."
   ]
  },
  {
   "cell_type": "code",
   "execution_count": 12,
   "metadata": {
    "scrolled": true
   },
   "outputs": [],
   "source": [
    "# def correlation_ratio(categories, measurements):\n",
    "#     fcat, _ = pd.factorize(categories)\n",
    "#     cat_num = np.max(fcat)+1\n",
    "#     y_avg_array = np.zeros(cat_num)\n",
    "#     n_array = np.zeros(cat_num)\n",
    "#     for i in range(0,cat_num):\n",
    "#         cat_measures = measurements[np.argwhere(fcat == i).flatten()]\n",
    "#         n_array[i] = len(cat_measures)\n",
    "#         y_avg_array[i] = np.average(cat_measures)\n",
    "#     y_total_avg = np.sum(np.multiply(y_avg_array,n_array))/np.sum(n_array)\n",
    "#     numerator = np.sum(np.multiply(n_array,np.power(np.subtract(y_avg_array,y_total_avg),2)))\n",
    "#     denominator = np.sum(np.power(np.subtract(measurements,y_total_avg),2))\n",
    "#     if numerator == 0:\n",
    "#         eta = 0.0\n",
    "#     else:\n",
    "#         eta = np.sqrt(numerator/denominator)\n",
    "#     return eta\n",
    "def cramers_v(x, y):\n",
    "    confusion_matrix = pd.crosstab(x,y)\n",
    "    chi2 = ss.chi2_contingency(confusion_matrix)[0]\n",
    "    n = confusion_matrix.sum().sum()\n",
    "    phi2 = chi2/n\n",
    "    r,k = confusion_matrix.shape\n",
    "    phi2corr = max(0, phi2-((k-1)*(r-1))/(n-1))\n",
    "    rcorr = r-((r-1)**2)/(n-1)\n",
    "    kcorr = k-((k-1)**2)/(n-1)\n",
    "    return np.sqrt(phi2corr/min((kcorr-1),(rcorr-1)))"
   ]
  },
  {
   "cell_type": "code",
   "execution_count": 13,
   "metadata": {},
   "outputs": [
    {
     "data": {
      "text/plain": [
       "0.9442778081859465"
      ]
     },
     "execution_count": 13,
     "metadata": {},
     "output_type": "execute_result"
    }
   ],
   "source": [
    "cramers_v(x['city'],x['street'])"
   ]
  },
  {
   "cell_type": "markdown",
   "metadata": {},
   "source": [
    "Obie kolumny są mocno ze sobą 'skorelowane', więc w danych ze zbioru treningowego kolumny street i street_number wprowadzają jedynie zbędne informacje. Wysoka korelacja przemawia za wyrzuceniem tych kolumn, ale w przyszłości mogą pojawić się dane z takimi samymi nazwami ulic w różnych miastach. "
   ]
  },
  {
   "cell_type": "markdown",
   "metadata": {},
   "source": [
    "### Dni i godziny dostawy\n",
    "\n",
    "Porównanie działalności firm dostawczych."
   ]
  },
  {
   "cell_type": "code",
   "execution_count": 14,
   "metadata": {},
   "outputs": [
    {
     "data": {
      "text/plain": [
       "<matplotlib.axes._subplots.AxesSubplot at 0x245ceabd908>"
      ]
     },
     "execution_count": 14,
     "metadata": {},
     "output_type": "execute_result"
    },
    {
     "data": {
      "image/png": "[encoded data removed]",
      "text/plain": [
       "<Figure size 432x288 with 1 Axes>"
      ]
     },
     "metadata": {
      "needs_background": "light"
     },
     "output_type": "display_data"
    }
   ],
   "source": [
    "sns.countplot(data=x,x='delivery_weekday',hue='delivery_company')"
   ]
  },
  {
   "cell_type": "code",
   "execution_count": 15,
   "metadata": {},
   "outputs": [
    {
     "data": {
      "text/plain": [
       "<matplotlib.axes._subplots.AxesSubplot at 0x245d0355b48>"
      ]
     },
     "execution_count": 15,
     "metadata": {},
     "output_type": "execute_result"
    },
    {
     "data": {
      "image/png": "[encoded data removed]",
      "text/plain": [
       "<Figure size 432x288 with 1 Axes>"
      ]
     },
     "metadata": {
      "needs_background": "light"
     },
     "output_type": "display_data"
    }
   ],
   "source": [
    "sns.countplot(data=x,x='delivery_hour',hue='delivery_company')"
   ]
  },
  {
   "cell_type": "code",
   "execution_count": 16,
   "metadata": {},
   "outputs": [
    {
     "data": {
      "text/plain": [
       "<matplotlib.axes._subplots.AxesSubplot at 0x245d04cff48>"
      ]
     },
     "execution_count": 16,
     "metadata": {},
     "output_type": "execute_result"
    },
    {
     "data": {
      "image/png": "[encoded data removed]",
      "text/plain": [
       "<Figure size 432x288 with 1 Axes>"
      ]
     },
     "metadata": {
      "needs_background": "light"
     },
     "output_type": "display_data"
    }
   ],
   "source": [
    "sns.countplot(data=x,x='delivery_day',hue='delivery_company')"
   ]
  },
  {
   "cell_type": "code",
   "execution_count": 17,
   "metadata": {},
   "outputs": [
    {
     "data": {
      "text/plain": [
       "<matplotlib.axes._subplots.AxesSubplot at 0x245d064f508>"
      ]
     },
     "execution_count": 17,
     "metadata": {},
     "output_type": "execute_result"
    },
    {
     "data": {
      "image/png": "[encoded data removed]",
      "text/plain": [
       "<Figure size 432x288 with 1 Axes>"
      ]
     },
     "metadata": {
      "needs_background": "light"
     },
     "output_type": "display_data"
    }
   ],
   "source": [
    "sns.countplot(data=x,x='city',hue='delivery_company')"
   ]
  },
  {
   "cell_type": "code",
   "execution_count": 18,
   "metadata": {},
   "outputs": [
    {
     "data": {
      "text/plain": [
       "<matplotlib.axes._subplots.AxesSubplot at 0x245d0756608>"
      ]
     },
     "execution_count": 18,
     "metadata": {},
     "output_type": "execute_result"
    },
    {
     "data": {
      "image/png": "[encoded data removed]",
      "text/plain": [
       "<Figure size 432x288 with 1 Axes>"
      ]
     },
     "metadata": {
      "needs_background": "light"
     },
     "output_type": "display_data"
    }
   ],
   "source": [
    "concat = x.copy()\n",
    "concat['shipping_time_in_hours'] = y\n",
    "sns.boxplot(data=concat,x='delivery_company',y='shipping_time_in_hours')"
   ]
  },
  {
   "cell_type": "markdown",
   "metadata": {},
   "source": [
    "Jak widać firmy dostawcze dostawcze prowadzą bardzo podobną działalność.\n",
    "Zastanawiająca jest ich praca w soboty i niedziele, jak i całodobowa dostępność kurierów. Wskazuje to na niereprezentatywność danych. "
   ]
  },
  {
   "cell_type": "markdown",
   "metadata": {},
   "source": [
    "# Wnioski\n",
    "1. Po preprocessingu z 7000 + rekordów zostało nam jedynie 4164 rekordy. Taka liczba nie gwarantuje dobrego wytrenowania modelu. Wskazane jest pozyskanie większej ilości danych.\n",
    "2. Dane nie odzwierciedlają faktycznej pracy kurierów. Dane wskazują na dostarczanie przesyłek 24/7, a to jak wszyscy wiemy nie ma miejsca w Polsce, ani chyba nigdzie indziej na świecie.\n",
    "3. Jeśli istnieje interpretacja dla ujemnych czasów dostawy, można byłoby zyskać ponad 2000 rekordów. Do ustalenia z klientem.\n",
    "4. Powstaje pytanie z jakiego okresu pochodzą te dane.\n",
    "5. Proces dostarczenia przesyłki jest nieznany. Byćmoże istnieją centra logistyczne pośredniczące w przesyłce, które mają znaczny wpływ na czas przesyłki."
   ]
  }
 ],
 "metadata": {
  "kernelspec": {
   "display_name": "Python 3",
   "language": "python",
   "name": "python3"
  },
  "language_info": {
   "codemirror_mode": {
    "name": "ipython",
    "version": 3
   },
   "file_extension": ".py",
   "mimetype": "text/x-python",
   "name": "python",
   "nbconvert_exporter": "python",
   "pygments_lexer": "ipython3",
   "version": "3.7.4"
  }
 },
 "nbformat": 4,
 "nbformat_minor": 2
}
